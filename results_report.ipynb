{
 "cells": [
  {
   "cell_type": "code",
   "execution_count": 1,
   "metadata": {},
   "outputs": [],
   "source": [
    "import numpy as np\n",
    "import matplotlib.pyplot as plt\n",
    "import pandas as pd\n",
    "\n",
    "from schedulers.round_robin import RoundRobin\n",
    "from schedulers.fifo import FIFO\n",
    "from schedulers.cfs import CFS\n",
    "from schedulers.ml_prio import MLPriority\n",
    "from schedulers.mlq import MLQ\n",
    "#from schedulers.mfq import MFQ"
   ]
  },
  {
   "cell_type": "code",
   "execution_count": 2,
   "metadata": {},
   "outputs": [],
   "source": [
    "test1 = [\n",
    "    'dataset/test/test1-1.csv',\n",
    "    'dataset/test/test1-2.csv',\n",
    "    'dataset/test/test1-3.csv',\n",
    "    'dataset/test/test1-4.csv',\n",
    "    #'dataset/test/test1-5.csv'\n",
    "]\n",
    "test2 = [\n",
    "    'dataset/test/test2-1.csv',\n",
    "    'dataset/test/test2-2.csv',\n",
    "    'dataset/test/test2-3.csv',\n",
    "    'dataset/test/test2-4.csv'\n",
    "]\n",
    "test3 = [\n",
    "    'dataset/test/test3-1.csv',\n",
    "    'dataset/test/test3-2.csv',\n",
    "    'dataset/test/test3-3.csv',\n",
    "    'dataset/test/test3-4.csv'\n",
    "]"
   ]
  },
  {
   "cell_type": "code",
   "execution_count": 3,
   "metadata": {},
   "outputs": [],
   "source": [
    "schedulers = [FIFO, RoundRobin, MLQ, CFS, MLPriority]\n",
    "encoder_context = 10\n",
    "max_priority = 10\n",
    "\n",
    "calculated_stats = ['CPU_util', 'throughput', 'turnaround', 'response', 'waiting', 'runtime', 'mean_runtime']\n",
    "scheduler_names = ['fifo', 'rr', 'mlq', 'cfs', 'ml_prio']"
   ]
  },
  {
   "cell_type": "code",
   "execution_count": 4,
   "metadata": {},
   "outputs": [],
   "source": [
    "def test_scheduler(scheduler, csv=\"./dataset/test.csv\", **kwargs):\n",
    "    data = np.genfromtxt(csv, delimiter=',', skip_header=1)\n",
    "    sched = scheduler(data, **kwargs)\n",
    "    sched.time_run()\n",
    "    sched.calc_stats()\n",
    "    return sched"
   ]
  },
  {
   "cell_type": "code",
   "execution_count": 5,
   "metadata": {},
   "outputs": [],
   "source": [
    "test1_results = pd.DataFrame(columns=['n_procs'] + calculated_stats + ['scheduler'])\n",
    "test2_results = pd.DataFrame(columns=['distribution'] + calculated_stats + ['scheduler'])\n",
    "test3_results = pd.DataFrame(columns=['max_instructions'] + calculated_stats + ['scheduler'])"
   ]
  },
  {
   "cell_type": "code",
   "execution_count": 6,
   "metadata": {},
   "outputs": [
    {
     "name": "stdout",
     "output_type": "stream",
     "text": [
      "Test 1:\n",
      "\t dataset/test/test1-1.csv\n",
      "\t\t fifo\n",
      "\t\t rr\n",
      "\t\t mlq\n",
      "\t\t cfs\n",
      "\t\t ml_prio\n",
      "\t dataset/test/test1-2.csv\n",
      "\t\t fifo\n",
      "\t\t rr\n",
      "\t\t mlq\n",
      "\t\t cfs\n",
      "\t\t ml_prio\n",
      "\t dataset/test/test1-3.csv\n",
      "\t\t fifo\n",
      "\t\t rr\n",
      "\t\t mlq\n",
      "\t\t cfs\n",
      "\t\t ml_prio\n",
      "\t dataset/test/test1-4.csv\n",
      "\t\t fifo\n",
      "\t\t rr\n",
      "\t\t mlq\n",
      "\t\t cfs\n",
      "\t\t ml_prio\n"
     ]
    }
   ],
   "source": [
    "# Test 1\n",
    "n_steps = [10,100,1000,10000,100000]\n",
    "\n",
    "print('Test 1:')\n",
    "for i in range(len(test1)):\n",
    "    test = test1[i]\n",
    "    print('\\t', test)\n",
    "    for j in range(len(schedulers)):\n",
    "        print('\\t\\t',scheduler_names[j])\n",
    "        sched = test_scheduler(schedulers[j], test, encoder_context=encoder_context, max_priority=max_priority)\n",
    "        test1_results.loc[0 if pd.isnull(test1_results.index.max()) else test1_results.index.max() + 1] = [\n",
    "            n_steps[i], \n",
    "            sched.stat_cpu_util,\n",
    "            sched.stat_throughput,\n",
    "            sched.stat_turnaround_time,\n",
    "            sched.stat_response_time,\n",
    "            sched.stat_waiting_time,\n",
    "            sched.stat_runtime,\n",
    "            sched.stat_mean_runtime,\n",
    "            scheduler_names[j]\n",
    "        ]\n"
   ]
  },
  {
   "cell_type": "code",
   "execution_count": 7,
   "metadata": {},
   "outputs": [],
   "source": [
    "test1_results.to_csv('./results/test1_results.csv')"
   ]
  },
  {
   "cell_type": "code",
   "execution_count": 8,
   "metadata": {},
   "outputs": [
    {
     "name": "stdout",
     "output_type": "stream",
     "text": [
      "Test 2:\n",
      "\t dataset/test/test1-1.csv\n",
      "\t\t fifo\n",
      "\t\t rr\n",
      "\t\t mlq\n",
      "\t\t cfs\n",
      "\t\t ml_prio\n",
      "\t dataset/test/test1-2.csv\n",
      "\t\t fifo\n",
      "\t\t rr\n",
      "\t\t mlq\n",
      "\t\t cfs\n",
      "\t\t ml_prio\n",
      "\t dataset/test/test1-3.csv\n",
      "\t\t fifo\n",
      "\t\t rr\n",
      "\t\t mlq\n",
      "\t\t cfs\n",
      "\t\t ml_prio\n",
      "\t dataset/test/test1-4.csv\n",
      "\t\t fifo\n",
      "\t\t rr\n",
      "\t\t mlq\n",
      "\t\t cfs\n",
      "\t\t ml_prio\n"
     ]
    }
   ],
   "source": [
    "# Test 2\n",
    "distribution = ['n', 'u', 'f', 'cs']\n",
    "\n",
    "print('Test 2:')\n",
    "for i in range(len(test1)):\n",
    "    test = test1[i]\n",
    "    print('\\t', test)\n",
    "    for j in range(len(schedulers)):\n",
    "        print('\\t\\t',scheduler_names[j])\n",
    "        sched = test_scheduler(schedulers[j], test, encoder_context=encoder_context, max_priority=max_priority)\n",
    "        test2_results.loc[0 if pd.isnull(test2_results.index.max()) else test2_results.index.max() + 1] = [\n",
    "            distribution[i], \n",
    "            sched.stat_cpu_util,\n",
    "            sched.stat_throughput,\n",
    "            sched.stat_turnaround_time,\n",
    "            sched.stat_response_time,\n",
    "            sched.stat_waiting_time,\n",
    "            sched.stat_runtime,\n",
    "            sched.stat_mean_runtime,\n",
    "            scheduler_names[j]\n",
    "        ]"
   ]
  },
  {
   "cell_type": "code",
   "execution_count": 9,
   "metadata": {},
   "outputs": [],
   "source": [
    "test2_results.to_csv('./results/test2_results.csv')"
   ]
  },
  {
   "cell_type": "code",
   "execution_count": 10,
   "metadata": {},
   "outputs": [
    {
     "name": "stdout",
     "output_type": "stream",
     "text": [
      "Test 3:\n",
      "\t dataset/test/test1-1.csv\n",
      "\t\t fifo\n",
      "\t\t rr\n",
      "\t\t mlq\n",
      "\t\t cfs\n",
      "\t\t ml_prio\n",
      "\t dataset/test/test1-2.csv\n",
      "\t\t fifo\n",
      "\t\t rr\n",
      "\t\t mlq\n",
      "\t\t cfs\n",
      "\t\t ml_prio\n",
      "\t dataset/test/test1-3.csv\n",
      "\t\t fifo\n",
      "\t\t rr\n",
      "\t\t mlq\n",
      "\t\t cfs\n",
      "\t\t ml_prio\n",
      "\t dataset/test/test1-4.csv\n",
      "\t\t fifo\n",
      "\t\t rr\n",
      "\t\t mlq\n",
      "\t\t cfs\n",
      "\t\t ml_prio\n"
     ]
    }
   ],
   "source": [
    "# Test 3\n",
    "max_instructions = [2, 20, 200, 2000]\n",
    "\n",
    "print('Test 3:')\n",
    "for i in range(len(test1)):\n",
    "    test = test1[i]\n",
    "    print('\\t', test)\n",
    "    for j in range(len(schedulers)):\n",
    "        print('\\t\\t',scheduler_names[j])\n",
    "        sched = test_scheduler(schedulers[j], test, encoder_context=encoder_context, max_priority=max_priority)\n",
    "        test3_results.loc[0 if pd.isnull(test3_results.index.max()) else test3_results.index.max() + 1] = [\n",
    "            max_instructions[i], \n",
    "            sched.stat_cpu_util,\n",
    "            sched.stat_throughput,\n",
    "            sched.stat_turnaround_time,\n",
    "            sched.stat_response_time,\n",
    "            sched.stat_waiting_time,\n",
    "            sched.stat_runtime,\n",
    "            sched.stat_mean_runtime,\n",
    "            scheduler_names[j]\n",
    "        ]"
   ]
  },
  {
   "cell_type": "code",
   "execution_count": 11,
   "metadata": {},
   "outputs": [],
   "source": [
    "test3_results.to_csv('./results/test3_results.csv')"
   ]
  },
  {
   "cell_type": "code",
   "execution_count": 2,
   "metadata": {},
   "outputs": [
    {
     "ename": "NameError",
     "evalue": "name 'calculated_stats' is not defined",
     "output_type": "error",
     "traceback": [
      "\u001b[0;31m---------------------------------------------------------------------------\u001b[0m",
      "\u001b[0;31mNameError\u001b[0m                                 Traceback (most recent call last)",
      "Cell \u001b[0;32mIn[2], line 8\u001b[0m\n\u001b[1;32m      1\u001b[0m test1 \u001b[38;5;241m=\u001b[39m [\n\u001b[1;32m      2\u001b[0m     \u001b[38;5;124m'\u001b[39m\u001b[38;5;124mdataset/test/test1-1.csv\u001b[39m\u001b[38;5;124m'\u001b[39m,\n\u001b[1;32m      3\u001b[0m     \u001b[38;5;124m'\u001b[39m\u001b[38;5;124mdataset/test/test1-2.csv\u001b[39m\u001b[38;5;124m'\u001b[39m,\n\u001b[0;32m   (...)\u001b[0m\n\u001b[1;32m      6\u001b[0m     \u001b[38;5;124m'\u001b[39m\u001b[38;5;124mdataset/test/test1-5.csv\u001b[39m\u001b[38;5;124m'\u001b[39m\n\u001b[1;32m      7\u001b[0m ]\n\u001b[0;32m----> 8\u001b[0m test1_results \u001b[38;5;241m=\u001b[39m pd\u001b[38;5;241m.\u001b[39mDataFrame(columns\u001b[38;5;241m=\u001b[39m[\u001b[38;5;124m'\u001b[39m\u001b[38;5;124mn_procs\u001b[39m\u001b[38;5;124m'\u001b[39m] \u001b[38;5;241m+\u001b[39m \u001b[43mcalculated_stats\u001b[49m \u001b[38;5;241m+\u001b[39m [\u001b[38;5;124m'\u001b[39m\u001b[38;5;124mscheduler\u001b[39m\u001b[38;5;124m'\u001b[39m])\n",
      "\u001b[0;31mNameError\u001b[0m: name 'calculated_stats' is not defined"
     ]
    }
   ],
   "source": [
    "test1 = [\n",
    "    'dataset/test/test1-1.csv',\n",
    "    'dataset/test/test1-2.csv',\n",
    "    'dataset/test/test1-3.csv',\n",
    "    'dataset/test/test1-4.csv',\n",
    "    'dataset/test/test1-5.csv'\n",
    "]\n",
    "test1_results = pd.DataFrame(columns=['n_procs'] + calculated_stats + ['scheduler'])"
   ]
  },
  {
   "cell_type": "code",
   "execution_count": 13,
   "metadata": {},
   "outputs": [
    {
     "name": "stdout",
     "output_type": "stream",
     "text": [
      "Test 1:\n",
      "\t dataset/test/test1-1.csv\n",
      "\t\t fifo\n",
      "\t\t rr\n",
      "\t\t mlq\n",
      "\t\t cfs\n",
      "\t\t ml_prio\n",
      "\t dataset/test/test1-2.csv\n",
      "\t\t fifo\n",
      "\t\t rr\n",
      "\t\t mlq\n",
      "\t\t cfs\n",
      "\t\t ml_prio\n",
      "\t dataset/test/test1-3.csv\n",
      "\t\t fifo\n",
      "\t\t rr\n",
      "\t\t mlq\n",
      "\t\t cfs\n",
      "\t\t ml_prio\n",
      "\t dataset/test/test1-4.csv\n",
      "\t\t fifo\n",
      "\t\t rr\n",
      "\t\t mlq\n",
      "\t\t cfs\n",
      "\t\t ml_prio\n",
      "\t dataset/test/test1-5.csv\n",
      "\t\t fifo\n",
      "\t\t rr\n",
      "\t\t mlq\n"
     ]
    }
   ],
   "source": [
    "# Test 1-5\n",
    "n_steps = [100000]\n",
    "\n",
    "print('Test 1:')\n",
    "i=4\n",
    "test = test1[i]\n",
    "print('\\t', test)\n",
    "for j in range(len(schedulers)):\n",
    "    print('\\t\\t',scheduler_names[j])\n",
    "    sched = test_scheduler(schedulers[j], test, encoder_context=encoder_context, max_priority=max_priority)\n",
    "    test1_results.loc[0 if pd.isnull(test1_results.index.max()) else test1_results.index.max() + 1] = [\n",
    "        n_steps[i], \n",
    "        sched.stat_cpu_util,\n",
    "        sched.stat_throughput,\n",
    "        sched.stat_turnaround_time,\n",
    "        sched.stat_response_time,\n",
    "        sched.stat_waiting_time,\n",
    "        sched.stat_runtime,\n",
    "        sched.stat_mean_runtime,\n",
    "        scheduler_names[j]\n",
    "    ]\n"
   ]
  },
  {
   "cell_type": "code",
   "execution_count": null,
   "metadata": {},
   "outputs": [],
   "source": [
    "test1_results.to_csv('./results/test1_results2.csv')"
   ]
  },
  {
   "cell_type": "code",
   "execution_count": null,
   "metadata": {},
   "outputs": [],
   "source": []
  }
 ],
 "metadata": {
  "kernelspec": {
   "display_name": "ml",
   "language": "python",
   "name": "python3"
  },
  "language_info": {
   "codemirror_mode": {
    "name": "ipython",
    "version": 3
   },
   "file_extension": ".py",
   "mimetype": "text/x-python",
   "name": "python",
   "nbconvert_exporter": "python",
   "pygments_lexer": "ipython3",
   "version": "3.11.4"
  }
 },
 "nbformat": 4,
 "nbformat_minor": 2
}
