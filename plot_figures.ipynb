{
 "cells": [
  {
   "cell_type": "code",
   "execution_count": 1,
   "metadata": {},
   "outputs": [],
   "source": [
    "import numpy as np\n",
    "import matplotlib.pyplot as plt\n",
    "import pandas as pd"
   ]
  },
  {
   "cell_type": "code",
   "execution_count": 2,
   "metadata": {},
   "outputs": [],
   "source": [
    "def plot_figs(test_name, test_title, index):\n",
    "    plot_cols = ['CPU_util', 'throughput', 'turnaround', 'response', 'waiting', 'runtime', 'mean_runtime']\n",
    "    plot_titles = ['CPU Utilization', 'Average Throughput', 'Average Turnaround Time', 'Average Response Time', 'Average Waiting Time', 'Total Runtime', 'Average Runime']\n",
    "    plot_ylabel = ['CPU Utilization (%)', 'Average Throughput', 'Average Turnaround Time (units)', 'Average Response Time (units)', 'Average Waiting Time (units)', 'Total Runtime (s)', 'Average Runime (s)']\n",
    "\n",
    "    test = pd.read_csv('./results/'+test_name+'_results.csv', index_col=0)\n",
    "    for i in range(len(plot_cols)):\n",
    "        col = plot_cols[i]\n",
    "        pd.pivot_table(test, values=col, index=index, columns='scheduler').plot(kind='bar')\n",
    "        plt.title(test_title[0]+': '+plot_titles[i] + ' vs. '+test_title[1])\n",
    "        plt.ylabel(plot_ylabel[i])\n",
    "        plt.savefig('./figures/'+test_name+'/'+col+'.png')\n",
    "        plt.close()"
   ]
  },
  {
   "cell_type": "code",
   "execution_count": 3,
   "metadata": {},
   "outputs": [],
   "source": [
    "plot_figs('test1', ['Test 1', 'Number of Processes'], 'n_procs')"
   ]
  },
  {
   "cell_type": "code",
   "execution_count": 4,
   "metadata": {},
   "outputs": [],
   "source": [
    "plot_figs('test2', ['Test 2', 'Distribution'], 'distribution')"
   ]
  },
  {
   "cell_type": "code",
   "execution_count": 5,
   "metadata": {},
   "outputs": [],
   "source": [
    "plot_figs('test3', ['Test 2', 'Max Burst Time'], 'max_instructions')"
   ]
  },
  {
   "cell_type": "code",
   "execution_count": null,
   "metadata": {},
   "outputs": [],
   "source": []
  }
 ],
 "metadata": {
  "kernelspec": {
   "display_name": "ml",
   "language": "python",
   "name": "python3"
  },
  "language_info": {
   "codemirror_mode": {
    "name": "ipython",
    "version": 3
   },
   "file_extension": ".py",
   "mimetype": "text/x-python",
   "name": "python",
   "nbconvert_exporter": "python",
   "pygments_lexer": "ipython3",
   "version": "3.11.4"
  }
 },
 "nbformat": 4,
 "nbformat_minor": 2
}
